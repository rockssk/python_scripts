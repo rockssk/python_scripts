{
 "cells": [
  {
   "cell_type": "markdown",
   "metadata": {},
   "source": [
    "#          Welcome to my Python learning "
   ]
  },
  {
   "cell_type": "markdown",
   "metadata": {},
   "source": [
    "### Count number of Upper case letters in a string"
   ]
  },
  {
   "cell_type": "code",
   "execution_count": 35,
   "metadata": {},
   "outputs": [
    {
     "name": "stdout",
     "output_type": "stream",
     "text": [
      "22\n"
     ]
    }
   ],
   "source": [
    "text=\"Hi SURESH SETHuRAMASWAY, Welcome to Python coding Excercises\"\n",
    "count=0\n",
    "for char in text:\n",
    "    if char.isupper():\n",
    "        count=count+1\n",
    "print (count)"
   ]
  },
  {
   "cell_type": "markdown",
   "metadata": {},
   "source": [
    "### Check if 2 numbers are equal"
   ]
  },
  {
   "cell_type": "code",
   "execution_count": 37,
   "metadata": {},
   "outputs": [
    {
     "name": "stdout",
     "output_type": "stream",
     "text": [
      "True\n",
      "False\n"
     ]
    }
   ],
   "source": [
    "  big_num_1   = 1000\n",
    "big_num_2   = 1000\n",
    "small_num_1 = 10\n",
    "small_num_2 = 1\n",
    "print(big_num_1   == big_num_2)\n",
    "print(small_num_1 == small_num_2)"
   ]
  },
  {
   "cell_type": "markdown",
   "metadata": {},
   "source": [
    "### Print Fibonacci Series"
   ]
  },
  {
   "cell_type": "code",
   "execution_count": 41,
   "metadata": {},
   "outputs": [
    {
     "name": "stdout",
     "output_type": "stream",
     "text": [
      "how many iterations??10\n",
      "1\n",
      "1\n",
      "2\n",
      "3\n",
      "5\n",
      "8\n",
      "13\n",
      "21\n",
      "34\n",
      "55\n"
     ]
    }
   ],
   "source": [
    "def fibo_series(n):\n",
    "    if (n<=1):\n",
    "     return(1)\n",
    "    else:\n",
    "        return(fibo_series(n-1)+fibo_series(n-2))\n",
    "\n",
    "#item=10\n",
    "i=1\n",
    "iteration=int(input(\"how many iterations??\"))\n",
    "for i in range(iteration):\n",
    "    print(fibo_series(i))\n",
    "    "
   ]
  },
  {
   "cell_type": "markdown",
   "metadata": {},
   "source": [
    "### List directories and files in the path given by the user"
   ]
  },
  {
   "cell_type": "code",
   "execution_count": 136,
   "metadata": {},
   "outputs": [
    {
     "name": "stdout",
     "output_type": "stream",
     "text": [
      "Enter the path to list the files fromC:\\Users\\preethisureshmrinu\\Desktop\\Databricks_Labs\n",
      "C:\\Users\\preethisureshmrinu\\Desktop\\Databricks_Labs\\00 Introduce the Problem.html\n",
      "C:\\Users\\preethisureshmrinu\\Desktop\\Databricks_Labs\\01 Databricks Overview.html\n",
      "C:\\Users\\preethisureshmrinu\\Desktop\\Databricks_Labs\\02 Mounting Storage.ipynb\n",
      "C:\\Users\\preethisureshmrinu\\Desktop\\Databricks_Labs\\03 Reading Data Lab (answers).ipynb\n",
      "C:\\Users\\preethisureshmrinu\\Desktop\\Databricks_Labs\\04 Streaming Lab (Answers).ipynb\n",
      "C:\\Users\\preethisureshmrinu\\Desktop\\Databricks_Labs\\05 Power BI.ipynb\n",
      "C:\\Users\\preethisureshmrinu\\Desktop\\Databricks_Labs\\06 Spark ML.ipynb\n"
     ]
    }
   ],
   "source": [
    "import os\n",
    "def print_dir_contents(dir_path):\n",
    "    for child_dir in os.listdir(dir_path):\n",
    "        child_path=os.path.join(dir_path,child_dir)\n",
    "        if(os.path.isdir(child_path)):\n",
    "            print_dir_contents(child_path)\n",
    "        else :\n",
    "            print(child_path)\n",
    "\n",
    "dir_path=input(\"Enter the path to list the files from\")\n",
    "print_dir_contents(dir_path)"
   ]
  },
  {
   "cell_type": "markdown",
   "metadata": {},
   "source": [
    "### Check if an year is Leap or not"
   ]
  },
  {
   "cell_type": "code",
   "execution_count": 97,
   "metadata": {},
   "outputs": [
    {
     "name": "stdout",
     "output_type": "stream",
     "text": [
      "Enter the year456\n",
      "Enter a proper year\n"
     ]
    }
   ],
   "source": [
    "def check_leap(uYear):\n",
    "        if (uYear%4==0):\n",
    "            print (\" The entered year is a leap year\")\n",
    "        else:\n",
    "            print(\"The entered year is not a leap year\")\n",
    "\n",
    "uYear=int(input(\"Enter the year\"))\n",
    "if(len(str(uYear)) is 4):\n",
    "        check_leap(uYear)\n",
    "        \n",
    "else:\n",
    "       print(\"Enter a proper year\") \n",
    "        "
   ]
  },
  {
   "cell_type": "markdown",
   "metadata": {},
   "source": [
    "### Finding dupicates in an array"
   ]
  },
  {
   "cell_type": "code",
   "execution_count": 134,
   "metadata": {},
   "outputs": [
    {
     "name": "stdout",
     "output_type": "stream",
     "text": [
      "The most efficient array sorting -> [1 1 2 2 3 3 4 5]\n",
      "The most efficient uniq array -> [1 2 3 4 5]\n",
      "Duplicate item at index -> (array([0, 5], dtype=int64),) -> 1\n",
      "Duplicate item at index -> (array([1, 6], dtype=int64),) -> 2\n",
      "Duplicate item at index -> (array([2, 7], dtype=int64),) -> 3\n"
     ]
    }
   ],
   "source": [
    "import numpy as np\n",
    "arr=np.array([1,2,3,4,5,1,2,3])\n",
    "\n",
    "sorted_arr=np.sort(arr)\n",
    "print(\"The most efficient array sorting ->\",sorted_arr)\n",
    "uniq_arr=np.unique(arr)\n",
    "print(\"The most efficient uniq array ->\",uniq_arr)\n",
    "print\n",
    "for i in range(len(sorted_arr)-1):\n",
    "    if(sorted_arr[i]==sorted_arr[i+1]):\n",
    "        print(\"Duplicate item at index ->\",np.where(a==sorted_arr[i]),\"->\",sorted_arr[i])\n",
    "   "
   ]
  },
  {
   "cell_type": "markdown",
   "metadata": {},
   "source": [
    "### Quick plotting "
   ]
  },
  {
   "cell_type": "code",
   "execution_count": 3,
   "metadata": {},
   "outputs": [
    {
     "data": {
      "text/plain": [
       "<Figure size 640x480 with 1 Axes>"
      ]
     },
     "metadata": {},
     "output_type": "display_data"
    }
   ],
   "source": [
    "import matplotlib.pyplot as plt\n",
    "\n",
    "radius = [1.0, 2.0, 3.0, 4.0]\n",
    "area = [3.14159, 12.56636, 28.27431, 50.26544]\n",
    "\n",
    "plt.plot(radius, area)\n",
    "plt.show()"
   ]
  },
  {
   "cell_type": "code",
   "execution_count": 2,
   "metadata": {},
   "outputs": [
    {
     "name": "stdout",
     "output_type": "stream",
     "text": [
      "Collecting matplotlib\n",
      "  Downloading https://files.pythonhosted.org/packages/21/4c/35fa1837a705f33621604a1967b1505bd3f695940fdf02fad77ef11de196/matplotlib-3.0.3-cp36-cp36m-win_amd64.whl (9.1MB)\n",
      "Requirement already satisfied: pyparsing!=2.0.4,!=2.1.2,!=2.1.6,>=2.0.1 in c:\\users\\preethisureshmrinu\\anaconda3\\lib\\site-packages (from matplotlib) (2.2.0)\n",
      "Requirement already satisfied: cycler>=0.10 in c:\\users\\preethisureshmrinu\\anaconda3\\lib\\site-packages (from matplotlib) (0.10.0)\n",
      "Requirement already satisfied: numpy>=1.10.0 in c:\\users\\preethisureshmrinu\\anaconda3\\lib\\site-packages (from matplotlib) (1.14.3)\n",
      "Requirement already satisfied: kiwisolver>=1.0.1 in c:\\users\\preethisureshmrinu\\anaconda3\\lib\\site-packages (from matplotlib) (1.0.1)\n",
      "Requirement already satisfied: python-dateutil>=2.1 in c:\\users\\preethisureshmrinu\\anaconda3\\lib\\site-packages (from matplotlib) (2.7.3)\n",
      "Requirement already satisfied: six in c:\\users\\preethisureshmrinu\\anaconda3\\lib\\site-packages (from cycler>=0.10->matplotlib) (1.11.0)\n",
      "Requirement already satisfied: setuptools in c:\\users\\preethisureshmrinu\\anaconda3\\lib\\site-packages (from kiwisolver>=1.0.1->matplotlib) (39.1.0)\n",
      "Installing collected packages: matplotlib\n",
      "Successfully installed matplotlib-3.0.3\n"
     ]
    },
    {
     "name": "stderr",
     "output_type": "stream",
     "text": [
      "You are using pip version 19.0.1, however version 19.1 is available.\n",
      "You should consider upgrading via the 'python -m pip install --upgrade pip' command.\n"
     ]
    }
   ],
   "source": [
    "!python -m pip install matplotlib"
   ]
  },
  {
   "cell_type": "markdown",
   "metadata": {},
   "source": [
    "### Sort and remove a given array"
   ]
  },
  {
   "cell_type": "code",
   "execution_count": 18,
   "metadata": {},
   "outputs": [
    {
     "name": "stdout",
     "output_type": "stream",
     "text": [
      "sorted and deduped array-> [ 2  6  8 11 15]\n"
     ]
    }
   ],
   "source": [
    "A=[11, 8, 15, 2, 6, 8]\n",
    "#Sort the above list of integer and remove duplicates\n",
    "\n",
    "import numpy as np\n",
    "dedup_arr=np.unique(A)\n",
    "sorted_arr=np.sort(dedup_arr)\n",
    "print(\"sorted and deduped array->\",dedup_arr)\n"
   ]
  },
  {
   "cell_type": "markdown",
   "metadata": {},
   "source": [
    "### Scope of variables"
   ]
  },
  {
   "cell_type": "code",
   "execution_count": 19,
   "metadata": {},
   "outputs": [
    {
     "name": "stdout",
     "output_type": "stream",
     "text": [
      "global\n"
     ]
    }
   ],
   "source": [
    "a = \"global\"\n",
    "def f():\n",
    "    a = \"local\"\n",
    "f()\n",
    "x = a\n",
    "print(x)"
   ]
  },
  {
   "cell_type": "markdown",
   "metadata": {},
   "source": [
    "### String Split "
   ]
  },
  {
   "cell_type": "code",
   "execution_count": 20,
   "metadata": {},
   "outputs": [
    {
     "name": "stdout",
     "output_type": "stream",
     "text": [
      "['a', 'b', 'c']\n"
     ]
    }
   ],
   "source": [
    "#Given the code:\n",
    "x = 'a b c'\n",
    "y = x.split()\n",
    "print (y)\n"
   ]
  },
  {
   "cell_type": "markdown",
   "metadata": {},
   "source": [
    "### RegEX Pattern matching"
   ]
  },
  {
   "cell_type": "code",
   "execution_count": 23,
   "metadata": {},
   "outputs": [
    {
     "name": "stdout",
     "output_type": "stream",
     "text": [
      ".org\n"
     ]
    }
   ],
   "source": [
    "url = 'http://docs.python.org'\n",
    "f = url[-4:]\n",
    "print(f)"
   ]
  },
  {
   "cell_type": "markdown",
   "metadata": {},
   "source": [
    "### Boolean conditional check"
   ]
  },
  {
   "cell_type": "code",
   "execution_count": 24,
   "metadata": {},
   "outputs": [
    {
     "name": "stdout",
     "output_type": "stream",
     "text": [
      "True\n"
     ]
    }
   ],
   "source": [
    "sequence = ['A','B','C','D','E','F']\n",
    "m = \"D\" in sequence\n",
    "print(m)"
   ]
  }
 ],
 "metadata": {
  "kernelspec": {
   "display_name": "Python 3",
   "language": "python",
   "name": "python3"
  },
  "language_info": {
   "codemirror_mode": {
    "name": "ipython",
    "version": 3
   },
   "file_extension": ".py",
   "mimetype": "text/x-python",
   "name": "python",
   "nbconvert_exporter": "python",
   "pygments_lexer": "ipython3",
   "version": "3.6.5"
  }
 },
 "nbformat": 4,
 "nbformat_minor": 2
}
