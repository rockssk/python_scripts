{
 "cells": [
  {
   "cell_type": "markdown",
   "metadata": {},
   "source": [
    "#          Welcome to my Python learning "
   ]
  },
  {
   "cell_type": "markdown",
   "metadata": {},
   "source": [
    "### Count number of Upper case letters in a string"
   ]
  },
  {
   "cell_type": "code",
   "execution_count": 35,
   "metadata": {},
   "outputs": [
    {
     "name": "stdout",
     "output_type": "stream",
     "text": [
      "22\n"
     ]
    }
   ],
   "source": [
    "text=\"Hi SURESH SETHuRAMASWAY, Welcome to Python coding Excercises\"\n",
    "count=0\n",
    "for char in text:\n",
    "    if char.isupper():\n",
    "        count=count+1\n",
    "print (count)"
   ]
  },
  {
   "cell_type": "markdown",
   "metadata": {},
   "source": [
    "### Check if 2 numbers are equal"
   ]
  },
  {
   "cell_type": "code",
   "execution_count": 37,
   "metadata": {},
   "outputs": [
    {
     "name": "stdout",
     "output_type": "stream",
     "text": [
      "True\n",
      "False\n"
     ]
    }
   ],
   "source": [
    "  big_num_1   = 1000\n",
    "big_num_2   = 1000\n",
    "small_num_1 = 10\n",
    "small_num_2 = 1\n",
    "print(big_num_1   == big_num_2)\n",
    "print(small_num_1 == small_num_2)"
   ]
  },
  {
   "cell_type": "markdown",
   "metadata": {},
   "source": [
    "### Print Fibonacci Series"
   ]
  },
  {
   "cell_type": "code",
   "execution_count": 41,
   "metadata": {},
   "outputs": [
    {
     "name": "stdout",
     "output_type": "stream",
     "text": [
      "how many iterations??10\n",
      "1\n",
      "1\n",
      "2\n",
      "3\n",
      "5\n",
      "8\n",
      "13\n",
      "21\n",
      "34\n",
      "55\n"
     ]
    }
   ],
   "source": [
    "def fibo_series(n):\n",
    "    if (n<=1):\n",
    "     return(1)\n",
    "    else:\n",
    "        return(fibo_series(n-1)+fibo_series(n-2))\n",
    "\n",
    "#item=10\n",
    "i=1\n",
    "iteration=int(input(\"how many iterations??\"))\n",
    "for i in range(iteration):\n",
    "    print(fibo_series(i))\n",
    "    "
   ]
  },
  {
   "cell_type": "markdown",
   "metadata": {},
   "source": [
    "### List directories and files in the path given by the user"
   ]
  },
  {
   "cell_type": "code",
   "execution_count": 58,
   "metadata": {},
   "outputs": [
    {
     "name": "stdout",
     "output_type": "stream",
     "text": [
      "Enter the path to list the files fromC:\\Users\\preethisureshmrinu\\Documents\\Personal\\Suresh\\Hunting_2019\n",
      "C:\\Users\\preethisureshmrinu\\Documents\\Personal\\Suresh\\Hunting_2019\\200008452.jpg\n",
      "C:\\Users\\preethisureshmrinu\\Documents\\Personal\\Suresh\\Hunting_2019\\70-776\\Certify4Sure.70-776.pdf\n",
      "C:\\Users\\preethisureshmrinu\\Documents\\Personal\\Suresh\\Hunting_2019\\70-776\\Testing Engine\\Certify4Sure.70-776.vce\n",
      "C:\\Users\\preethisureshmrinu\\Documents\\Personal\\Suresh\\Hunting_2019\\70-776\\Testing Engine\\Instructions.txt\n",
      "C:\\Users\\preethisureshmrinu\\Documents\\Personal\\Suresh\\Hunting_2019\\70-776\\Testing Engine\\libcryptvce.dll\n",
      "C:\\Users\\preethisureshmrinu\\Documents\\Personal\\Suresh\\Hunting_2019\\70-776\\Testing Engine\\sqlite3.dll\n",
      "C:\\Users\\preethisureshmrinu\\Documents\\Personal\\Suresh\\Hunting_2019\\70-776\\Testing Engine\\Vcem.exe\n",
      "C:\\Users\\preethisureshmrinu\\Documents\\Personal\\Suresh\\Hunting_2019\\blog.png\n",
      "C:\\Users\\preethisureshmrinu\\Documents\\Personal\\Suresh\\Hunting_2019\\edX\\70-775_BigData in HDinsight\\Spark\\DAT202.3x.zip\n",
      "C:\\Users\\preethisureshmrinu\\Documents\\Personal\\Suresh\\Hunting_2019\\edX\\70-775_BigData in HDinsight\\Spark\\Lab 1 - Exploring Data with Spark.pdf\n",
      "C:\\Users\\preethisureshmrinu\\Documents\\Personal\\Suresh\\Hunting_2019\\edX\\70-775_BigData in HDinsight\\Spark\\Lab 2 - Building Supervised Learning Models.pdf\n",
      "C:\\Users\\preethisureshmrinu\\Documents\\Personal\\Suresh\\Hunting_2019\\edX\\70-775_BigData in HDinsight\\Spark\\Lab 3 - Evaluating Supervised Learning Models.pdf\n",
      "C:\\Users\\preethisureshmrinu\\Documents\\Personal\\Suresh\\Hunting_2019\\edX\\70-775_BigData in HDinsight\\Spark\\Lab 4 - Recommenders and Clustering.pdf\n",
      "C:\\Users\\preethisureshmrinu\\Documents\\Personal\\Suresh\\Hunting_2019\\edX\\70-776_Bigdata using cloudservices\\DAT220x_Lab01.htm\n",
      "C:\\Users\\preethisureshmrinu\\Documents\\Personal\\Suresh\\Hunting_2019\\edX\\70-776_Bigdata using cloudservices\\DAT220x_Lab01.pdf\n",
      "C:\\Users\\preethisureshmrinu\\Documents\\Personal\\Suresh\\Hunting_2019\\edX\\70-776_Bigdata using cloudservices\\DAT220x_Lab02.pdf\n",
      "C:\\Users\\preethisureshmrinu\\Documents\\Personal\\Suresh\\Hunting_2019\\edX\\70-776_Bigdata using cloudservices\\DAT220x_Lab03.pdf\n",
      "C:\\Users\\preethisureshmrinu\\Documents\\Personal\\Suresh\\Hunting_2019\\edX\\70-776_Bigdata using cloudservices\\DAT220x_Lab04.pdf\n",
      "C:\\Users\\preethisureshmrinu\\Documents\\Personal\\Suresh\\Hunting_2019\\edX\\Course2_Realtime processing\\DAT202.2x_Lab03.pdf\n",
      "C:\\Users\\preethisureshmrinu\\Documents\\Personal\\Suresh\\Hunting_2019\\edX\\Course2_Realtime processing\\DAT202.2x_Setup.pdf\n",
      "C:\\Users\\preethisureshmrinu\\Documents\\Personal\\Suresh\\Hunting_2019\\edX\\Course2_Realtime processing\\HDRTLabs.zip\n",
      "C:\\Users\\preethisureshmrinu\\Documents\\Personal\\Suresh\\Hunting_2019\\edX\\Course2_Realtime processing\\Lab 2 - Processing Big Data with Hive.pdf\n",
      "C:\\Users\\preethisureshmrinu\\Documents\\Personal\\Suresh\\Hunting_2019\\edX\\Course3_ADLA\\Lab 1 - Getting Started with Azure Data Lake.pdf\n",
      "C:\\Users\\preethisureshmrinu\\Documents\\Personal\\Suresh\\Hunting_2019\\edX\\Course3_ADLA\\Lab 2 - Using a U-SQL Catalog.pdf\n",
      "C:\\Users\\preethisureshmrinu\\Documents\\Personal\\Suresh\\Hunting_2019\\edX\\Course3_ADLA\\Lab 3 - Using CSharp in U-SQL.pdf\n",
      "C:\\Users\\preethisureshmrinu\\Documents\\Personal\\Suresh\\Hunting_2019\\edX\\Course4\\Lab 1 - Getting Started with Event Hubs.pdf\n",
      "C:\\Users\\preethisureshmrinu\\Documents\\Personal\\Suresh\\Hunting_2019\\edX\\Course4\\Lab 2 - Getting Started with IoT Hubs.pdf\n",
      "C:\\Users\\preethisureshmrinu\\Documents\\Personal\\Suresh\\Hunting_2019\\edX\\Course4\\Lab 4 - Monitoring U-SQL Execution.pdf\n",
      "C:\\Users\\preethisureshmrinu\\Documents\\Personal\\Suresh\\Hunting_2019\\edX\\Course4\\Setup Guide.pdf\n",
      "C:\\Users\\preethisureshmrinu\\Documents\\Personal\\Suresh\\Hunting_2019\\edX\\Course4\\Stream_Analytics\\Lab 1 - Getting Started with Event Hubs (1).pdf\n",
      "C:\\Users\\preethisureshmrinu\\Documents\\Personal\\Suresh\\Hunting_2019\\edX\\Course4\\Stream_Analytics\\Lab 2 - Getting Started with IoT Hubs.pdf\n",
      "C:\\Users\\preethisureshmrinu\\Documents\\Personal\\Suresh\\Hunting_2019\\edX\\Course4\\Stream_Analytics\\Lab 3 - Processing Data with Stream Analytics.pdf\n",
      "C:\\Users\\preethisureshmrinu\\Documents\\Personal\\Suresh\\Hunting_2019\\edX\\Course4\\Stream_Analytics\\Windowing_technique\\Lab 1 - Getting Started with Event Hubs.pdf\n",
      "C:\\Users\\preethisureshmrinu\\Documents\\Personal\\Suresh\\Hunting_2019\\edX\\Course4\\Stream_Analytics\\Windowing_technique\\Lab 2 - Getting Started with IoT Hubs.pdf\n",
      "C:\\Users\\preethisureshmrinu\\Documents\\Personal\\Suresh\\Hunting_2019\\edX\\Course4\\Stream_Analytics\\Windowing_technique\\Lab 3 - Processing Data with Stream Analytics.pdf\n",
      "C:\\Users\\preethisureshmrinu\\Documents\\Personal\\Suresh\\Hunting_2019\\edX\\Course4\\Stream_Analytics\\Windowing_technique\\Lab 5 - Final Challenge.pdf\n",
      "C:\\Users\\preethisureshmrinu\\Documents\\Personal\\Suresh\\Hunting_2019\\edX\\Course4\\vs_community__1947270053.1548417144.exe\n",
      "C:\\Users\\preethisureshmrinu\\Documents\\Personal\\Suresh\\Hunting_2019\\edX\\Course5_Orchestrating Azure\\ADF\\Lab 1 - Getting Started with Azure Data Factory.pdf\n",
      "C:\\Users\\preethisureshmrinu\\Documents\\Personal\\Suresh\\Hunting_2019\\edX\\Course5_Orchestrating Azure\\ADF\\Lab 2 - Creating Pipelines.pdf\n",
      "C:\\Users\\preethisureshmrinu\\Documents\\Personal\\Suresh\\Hunting_2019\\edX\\Course5_Orchestrating Azure\\ADF\\Lab 3 - Scheduling Pipelines.pdf\n",
      "C:\\Users\\preethisureshmrinu\\Documents\\Personal\\Suresh\\Hunting_2019\\edX\\Course5_Orchestrating Azure\\ADF\\Lab 4 - Transforming Data with Hive.pdf\n",
      "C:\\Users\\preethisureshmrinu\\Documents\\Personal\\Suresh\\Hunting_2019\\edX\\Course5_Orchestrating Azure\\ADF\\Lab 4 - Transforming Data with U-SQL.pdf\n",
      "C:\\Users\\preethisureshmrinu\\Documents\\Personal\\Suresh\\Hunting_2019\\edX\\Course5_Orchestrating Azure\\ADF\\Lab 5 - Final Challenge (1).pdf\n",
      "C:\\Users\\preethisureshmrinu\\Documents\\Personal\\Suresh\\Hunting_2019\\edX\\DAT223.1x.zip\n",
      "C:\\Users\\preethisureshmrinu\\Documents\\Personal\\Suresh\\Hunting_2019\\edX\\HDILabs\\Lab01\\reviews\\reviews.txt\n",
      "C:\\Users\\preethisureshmrinu\\Documents\\Personal\\Suresh\\Hunting_2019\\edX\\HDILabs\\Lab02\\Build Index.txt\n",
      "C:\\Users\\preethisureshmrinu\\Documents\\Personal\\Suresh\\Hunting_2019\\edX\\HDILabs\\Lab02\\Clean Log Data.txt\n",
      "C:\\Users\\preethisureshmrinu\\Documents\\Personal\\Suresh\\Hunting_2019\\edX\\HDILabs\\Lab02\\Create Clean Table.txt\n",
      "C:\\Users\\preethisureshmrinu\\Documents\\Personal\\Suresh\\Hunting_2019\\edX\\HDILabs\\Lab02\\Create Partitioned Table.txt\n",
      "C:\\Users\\preethisureshmrinu\\Documents\\Personal\\Suresh\\Hunting_2019\\edX\\HDILabs\\Lab02\\Create Raw Table.txt\n",
      "C:\\Users\\preethisureshmrinu\\Documents\\Personal\\Suresh\\Hunting_2019\\edX\\HDILabs\\Lab02\\Create Summary Table.txt\n",
      "C:\\Users\\preethisureshmrinu\\Documents\\Personal\\Suresh\\Hunting_2019\\edX\\HDILabs\\Lab02\\Create View.txt\n",
      "C:\\Users\\preethisureshmrinu\\Documents\\Personal\\Suresh\\Hunting_2019\\edX\\HDILabs\\Lab02\\iislogs\\2008-01.txt\n",
      "C:\\Users\\preethisureshmrinu\\Documents\\Personal\\Suresh\\Hunting_2019\\edX\\HDILabs\\Lab02\\iislogs\\2008-02.txt\n",
      "C:\\Users\\preethisureshmrinu\\Documents\\Personal\\Suresh\\Hunting_2019\\edX\\HDILabs\\Lab02\\iislogs\\2008-03.txt\n",
      "C:\\Users\\preethisureshmrinu\\Documents\\Personal\\Suresh\\Hunting_2019\\edX\\HDILabs\\Lab02\\iislogs\\2008-04.txt\n",
      "C:\\Users\\preethisureshmrinu\\Documents\\Personal\\Suresh\\Hunting_2019\\edX\\HDILabs\\Lab02\\iislogs\\2008-05.txt\n",
      "C:\\Users\\preethisureshmrinu\\Documents\\Personal\\Suresh\\Hunting_2019\\edX\\HDILabs\\Lab02\\iislogs\\2008-06.txt\n",
      "C:\\Users\\preethisureshmrinu\\Documents\\Personal\\Suresh\\Hunting_2019\\edX\\HDILabs\\Lab02\\iislogs_gz\\2008-01.txt.gz\n",
      "C:\\Users\\preethisureshmrinu\\Documents\\Personal\\Suresh\\Hunting_2019\\edX\\HDILabs\\Lab02\\iislogs_gz\\2008-02.txt.gz\n",
      "C:\\Users\\preethisureshmrinu\\Documents\\Personal\\Suresh\\Hunting_2019\\edX\\HDILabs\\Lab02\\iislogs_gz\\2008-03.txt.gz\n",
      "C:\\Users\\preethisureshmrinu\\Documents\\Personal\\Suresh\\Hunting_2019\\edX\\HDILabs\\Lab02\\iislogs_gz\\2008-04.txt.gz\n",
      "C:\\Users\\preethisureshmrinu\\Documents\\Personal\\Suresh\\Hunting_2019\\edX\\HDILabs\\Lab02\\iislogs_gz\\2008-05.txt.gz\n",
      "C:\\Users\\preethisureshmrinu\\Documents\\Personal\\Suresh\\Hunting_2019\\edX\\HDILabs\\Lab02\\iislogs_gz\\2008-06.txt.gz\n",
      "C:\\Users\\preethisureshmrinu\\Documents\\Personal\\Suresh\\Hunting_2019\\edX\\HDILabs\\Lab02\\Load Clean Data.txt\n",
      "C:\\Users\\preethisureshmrinu\\Documents\\Personal\\Suresh\\Hunting_2019\\edX\\HDILabs\\Lab02\\Load Partitioned Table.txt\n",
      "C:\\Users\\preethisureshmrinu\\Documents\\Personal\\Suresh\\Hunting_2019\\edX\\HDILabs\\Lab02\\Load Raw Data.txt\n",
      "C:\\Users\\preethisureshmrinu\\Documents\\Personal\\Suresh\\Hunting_2019\\edX\\HDILabs\\Lab03\\convert_rain.py\n",
      "C:\\Users\\preethisureshmrinu\\Documents\\Personal\\Suresh\\Hunting_2019\\edX\\HDILabs\\Lab03\\convert_temp.py\n",
      "C:\\Users\\preethisureshmrinu\\Documents\\Personal\\Suresh\\Hunting_2019\\edX\\HDILabs\\Lab03\\convert_weather.pig\n",
      "C:\\Users\\preethisureshmrinu\\Documents\\Personal\\Suresh\\Hunting_2019\\edX\\HDILabs\\Lab03\\create_table.hql\n",
      "C:\\Users\\preethisureshmrinu\\Documents\\Personal\\Suresh\\Hunting_2019\\edX\\HDILabs\\Lab03\\heathrow.txt\n",
      "C:\\Users\\preethisureshmrinu\\Documents\\Personal\\Suresh\\Hunting_2019\\edX\\HDILabs\\Lab03\\query_hive_table.txt\n",
      "C:\\Users\\preethisureshmrinu\\Documents\\Personal\\Suresh\\Hunting_2019\\edX\\HDILabs\\Lab03\\scrub_weather.pig\n",
      "C:\\Users\\preethisureshmrinu\\Documents\\Personal\\Suresh\\Hunting_2019\\edX\\HDILabs\\Lab04\\Create Logdata Table.txt\n",
      "C:\\Users\\preethisureshmrinu\\Documents\\Personal\\Suresh\\Hunting_2019\\edX\\HDILabs\\Lab04\\data\\iislogs\\oozie\\CleanseData.txt\n",
      "C:\\Users\\preethisureshmrinu\\Documents\\Personal\\Suresh\\Hunting_2019\\edX\\HDILabs\\Lab04\\data\\iislogs\\oozie\\CreateHiveTables.txt\n",
      "C:\\Users\\preethisureshmrinu\\Documents\\Personal\\Suresh\\Hunting_2019\\edX\\HDILabs\\Lab04\\data\\iislogs\\oozie\\DropHiveTables.txt\n",
      "C:\\Users\\preethisureshmrinu\\Documents\\Personal\\Suresh\\Hunting_2019\\edX\\HDILabs\\Lab04\\data\\iislogs\\oozie\\SummarizeData.txt\n",
      "C:\\Users\\preethisureshmrinu\\Documents\\Personal\\Suresh\\Hunting_2019\\edX\\HDILabs\\Lab04\\data\\iislogs\\oozie\\workflow.xml\n",
      "C:\\Users\\preethisureshmrinu\\Documents\\Personal\\Suresh\\Hunting_2019\\edX\\HDILabs\\Lab04\\data\\iislogs\\src\\log.txt\n",
      "C:\\Users\\preethisureshmrinu\\Documents\\Personal\\Suresh\\Hunting_2019\\edX\\HDILabs\\Lab04\\data\\job.properties\n",
      "C:\\Users\\preethisureshmrinu\\Documents\\Personal\\Suresh\\Hunting_2019\\edX\\HDILabs\\Lab04\\Sqoop Command.txt\n",
      "C:\\Users\\preethisureshmrinu\\Documents\\Personal\\Suresh\\Hunting_2019\\edX\\HDILabs.zip\n",
      "C:\\Users\\preethisureshmrinu\\Documents\\Personal\\Suresh\\Hunting_2019\\edX\\Lab 1 - Getting Started with HDInsight (1).pdf\n",
      "C:\\Users\\preethisureshmrinu\\Documents\\Personal\\Suresh\\Hunting_2019\\edX\\Lab 1 - Getting Started with HDInsight.pdf\n",
      "C:\\Users\\preethisureshmrinu\\Documents\\Personal\\Suresh\\Hunting_2019\\edX\\Setup.pdf\n"
     ]
    },
    {
     "name": "stdout",
     "output_type": "stream",
     "text": [
      "C:\\Users\\preethisureshmrinu\\Documents\\Personal\\Suresh\\Hunting_2019\\empire_state_building_getty_zsolt_hlinka.jpg\n",
      "C:\\Users\\preethisureshmrinu\\Documents\\Personal\\Suresh\\Hunting_2019\\Kaggle\\kaggle.json\n",
      "C:\\Users\\preethisureshmrinu\\Documents\\Personal\\Suresh\\Hunting_2019\\linkedin.jpg\n",
      "C:\\Users\\preethisureshmrinu\\Documents\\Personal\\Suresh\\Hunting_2019\\Ludwig_Uber.txt\n",
      "C:\\Users\\preethisureshmrinu\\Documents\\Personal\\Suresh\\Hunting_2019\\Microsoft_Exam_70-475_score.pdf\n",
      "C:\\Users\\preethisureshmrinu\\Documents\\Personal\\Suresh\\Hunting_2019\\official-linkedin-logo----17.png\n",
      "C:\\Users\\preethisureshmrinu\\Documents\\Personal\\Suresh\\Hunting_2019\\Ranjeeta Pegu_Resume.pdf\n",
      "C:\\Users\\preethisureshmrinu\\Documents\\Personal\\Suresh\\Hunting_2019\\Suresh_Sethuramaswamy_BigDataArchitect.docx\n",
      "C:\\Users\\preethisureshmrinu\\Documents\\Personal\\Suresh\\Hunting_2019\\Suresh_Sethuramaswamy_BigDataArchitect.pdf\n",
      "C:\\Users\\preethisureshmrinu\\Documents\\Personal\\Suresh\\Hunting_2019\\Suresh_Sethuramaswamy_Senior_BigDataArchitect.pdf\n",
      "C:\\Users\\preethisureshmrinu\\Documents\\Personal\\Suresh\\Hunting_2019\\Suresh_Sethuramaswamy_Senior_Bigdata_Architect.docx\n",
      "C:\\Users\\preethisureshmrinu\\Documents\\Personal\\Suresh\\Hunting_2019\\untitled.png\n",
      "C:\\Users\\preethisureshmrinu\\Documents\\Personal\\Suresh\\Hunting_2019\\~$resh_Sethuramaswamy_BigDataArchitect.docx\n"
     ]
    }
   ],
   "source": [
    "import os\n",
    "def print_dir_contents(dir_path):\n",
    "    for child_dir in os.listdir(dir_path):\n",
    "        child_path=os.path.join(dir_path,child_dir)\n",
    "        if(os.path.isdir(child_path)):\n",
    "            print_dir_contents(child_path)\n",
    "        else :\n",
    "            print(child_path)\n",
    "\n",
    "dir_path=input(\"Enter the path to list the files from\")\n",
    "print_dir_contents(dir_path)"
   ]
  },
  {
   "cell_type": "markdown",
   "metadata": {},
   "source": [
    "### Check if an year is Leap or not"
   ]
  },
  {
   "cell_type": "code",
   "execution_count": 97,
   "metadata": {},
   "outputs": [
    {
     "name": "stdout",
     "output_type": "stream",
     "text": [
      "Enter the year456\n",
      "Enter a proper year\n"
     ]
    }
   ],
   "source": [
    "def check_leap(uYear):\n",
    "        if (uYear%4==0):\n",
    "            print (\" The entered year is a leap year\")\n",
    "        else:\n",
    "            print(\"The entered year is not a leap year\")\n",
    "\n",
    "uYear=int(input(\"Enter the year\"))\n",
    "if(len(str(uYear)) is 4):\n",
    "        check_leap(uYear)\n",
    "        \n",
    "else:\n",
    "       print(\"Enter a proper year\") \n",
    "        "
   ]
  },
  {
   "cell_type": "markdown",
   "metadata": {},
   "source": [
    "### Finding dupicates in an array"
   ]
  },
  {
   "cell_type": "code",
   "execution_count": 134,
   "metadata": {},
   "outputs": [
    {
     "name": "stdout",
     "output_type": "stream",
     "text": [
      "The most efficient array sorting -> [1 1 2 2 3 3 4 5]\n",
      "The most efficient uniq array -> [1 2 3 4 5]\n",
      "Duplicate item at index -> (array([0, 5], dtype=int64),) -> 1\n",
      "Duplicate item at index -> (array([1, 6], dtype=int64),) -> 2\n",
      "Duplicate item at index -> (array([2, 7], dtype=int64),) -> 3\n"
     ]
    }
   ],
   "source": [
    "import numpy as np\n",
    "arr=np.array([1,2,3,4,5,1,2,3])\n",
    "\n",
    "sorted_arr=np.sort(arr)\n",
    "print(\"The most efficient array sorting ->\",sorted_arr)\n",
    "uniq_arr=np.unique(arr)\n",
    "print(\"The most efficient uniq array ->\",uniq_arr)\n",
    "print\n",
    "for i in range(len(sorted_arr)-1):\n",
    "    if(sorted_arr[i]==sorted_arr[i+1]):\n",
    "        print(\"Duplicate item at index ->\",np.where(a==sorted_arr[i]),\"->\",sorted_arr[i])\n",
    "   "
   ]
  },
  {
   "cell_type": "markdown",
   "metadata": {},
   "source": [
    "### Finding duplicates in a 2D Array"
   ]
  },
  {
   "cell_type": "code",
   "execution_count": 135,
   "metadata": {},
   "outputs": [
    {
     "ename": "TypeError",
     "evalue": "data type not understood",
     "output_type": "error",
     "traceback": [
      "\u001b[1;31m---------------------------------------------------------------------------\u001b[0m",
      "\u001b[1;31mTypeError\u001b[0m                                 Traceback (most recent call last)",
      "\u001b[1;32m<ipython-input-135-c853a209e5b5>\u001b[0m in \u001b[0;36m<module>\u001b[1;34m()\u001b[0m\n\u001b[0;32m      1\u001b[0m \u001b[1;32mimport\u001b[0m \u001b[0mnumpy\u001b[0m \u001b[1;32mas\u001b[0m \u001b[0mnp\u001b[0m\u001b[1;33m\u001b[0m\u001b[0m\n\u001b[1;32m----> 2\u001b[1;33m \u001b[0marr\u001b[0m\u001b[1;33m=\u001b[0m\u001b[0mnp\u001b[0m\u001b[1;33m.\u001b[0m\u001b[0marray\u001b[0m\u001b[1;33m(\u001b[0m\u001b[1;33m[\u001b[0m\u001b[1;36m1\u001b[0m\u001b[1;33m,\u001b[0m\u001b[1;36m2\u001b[0m\u001b[1;33m,\u001b[0m\u001b[1;36m3\u001b[0m\u001b[1;33m,\u001b[0m\u001b[1;36m4\u001b[0m\u001b[1;33m,\u001b[0m\u001b[1;36m5\u001b[0m\u001b[1;33m,\u001b[0m\u001b[1;36m1\u001b[0m\u001b[1;33m,\u001b[0m\u001b[1;36m2\u001b[0m\u001b[1;33m,\u001b[0m\u001b[1;36m3\u001b[0m\u001b[1;33m]\u001b[0m\u001b[1;33m,\u001b[0m\u001b[1;33m[\u001b[0m\u001b[1;36m4\u001b[0m\u001b[1;33m,\u001b[0m\u001b[1;36m5\u001b[0m\u001b[1;33m,\u001b[0m\u001b[1;36m6\u001b[0m\u001b[1;33m,\u001b[0m\u001b[1;36m7\u001b[0m\u001b[1;33m,\u001b[0m\u001b[1;36m8\u001b[0m\u001b[1;33m,\u001b[0m\u001b[1;36m9\u001b[0m\u001b[1;33m,\u001b[0m\u001b[1;36m10\u001b[0m\u001b[1;33m]\u001b[0m\u001b[1;33m)\u001b[0m\u001b[1;33m\u001b[0m\u001b[0m\n\u001b[0m\u001b[0;32m      3\u001b[0m \u001b[1;33m\u001b[0m\u001b[0m\n\u001b[0;32m      4\u001b[0m \u001b[0msorted_arr\u001b[0m\u001b[1;33m=\u001b[0m\u001b[0mnp\u001b[0m\u001b[1;33m.\u001b[0m\u001b[0msort\u001b[0m\u001b[1;33m(\u001b[0m\u001b[0marr\u001b[0m\u001b[1;33m)\u001b[0m\u001b[1;33m\u001b[0m\u001b[0m\n\u001b[0;32m      5\u001b[0m \u001b[0mprint\u001b[0m\u001b[1;33m(\u001b[0m\u001b[1;34m\"The most efficient array sorting ->\"\u001b[0m\u001b[1;33m,\u001b[0m\u001b[0msorted_arr\u001b[0m\u001b[1;33m)\u001b[0m\u001b[1;33m\u001b[0m\u001b[0m\n",
      "\u001b[1;31mTypeError\u001b[0m: data type not understood"
     ]
    }
   ],
   "source": [
    "import numpy as np\n",
    "arr=np.array([1,2,3,4,5,1,2,3],[4,5,6,7,8,9,10])\n",
    "\n",
    "sorted_arr=np.sort(arr)\n",
    "print(\"The most efficient array sorting ->\",sorted_arr)\n",
    "uniq_arr=np.unique(arr)\n",
    "print(\"The most efficient uniq array ->\",uniq_arr)\n",
    "print\n",
    "for i in range(len(sorted_arr)-1):\n",
    "    if(sorted_arr[i]==sorted_arr[i+1]):\n",
    "        print(\"Duplicate item at index ->\",np.where(a==sorted_arr[i]),\"->\",sorted_arr[i])\n",
    "   "
   ]
  }
 ],
 "metadata": {
  "kernelspec": {
   "display_name": "Python 3",
   "language": "python",
   "name": "python3"
  },
  "language_info": {
   "codemirror_mode": {
    "name": "ipython",
    "version": 3
   },
   "file_extension": ".py",
   "mimetype": "text/x-python",
   "name": "python",
   "nbconvert_exporter": "python",
   "pygments_lexer": "ipython3",
   "version": "3.6.5"
  }
 },
 "nbformat": 4,
 "nbformat_minor": 2
}
