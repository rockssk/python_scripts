{
 "cells": [
  {
   "cell_type": "markdown",
   "metadata": {},
   "source": [
    "### Extracting only a valid Phone number using RegEX"
   ]
  },
  {
   "cell_type": "code",
   "execution_count": 5,
   "metadata": {},
   "outputs": [
    {
     "name": "stdout",
     "output_type": "stream",
     "text": [
      "Collecting regex\n",
      "  Downloading https://files.pythonhosted.org/packages/a6/56/6dcafb42527aa13ea7d0f778a23a03edae20254e89df03a70abc2fc720b6/regex-2019.04.14-cp36-none-win_amd64.whl (321kB)\n",
      "Installing collected packages: regex\n",
      "Successfully installed regex-2019.4.14\n"
     ]
    },
    {
     "name": "stderr",
     "output_type": "stream",
     "text": [
      "You are using pip version 19.0.1, however version 19.1 is available.\n",
      "You should consider upgrading via the 'python -m pip install --upgrade pip' command.\n"
     ]
    }
   ],
   "source": [
    "!python -m pip install regex"
   ]
  },
  {
   "cell_type": "code",
   "execution_count": 13,
   "metadata": {},
   "outputs": [
    {
     "name": "stdout",
     "output_type": "stream",
     "text": [
      "Please enter the phone number to validate : +1 212 3334444\n"
     ]
    },
    {
     "data": {
      "text/plain": [
       "<regex.Match object; span=(3, 14), match='212 3334444'>"
      ]
     },
     "execution_count": 13,
     "metadata": {},
     "output_type": "execute_result"
    }
   ],
   "source": [
    "import regex as re\n",
    "phone_pattern = re.compile(r'''\n",
    "                # don't match beginning of string, number can start anywhere\n",
    "    (\\d{3})     # area code is 3 digits (e.g. '800')\n",
    "    \\D*         # optional separator is any number of non-digits\n",
    "    (\\d{3})     # trunk is 3 digits (e.g. '555')\n",
    "    \\D*         # optional separator\n",
    "    (\\d{4})     # rest of number is 4 digits (e.g. '1212')\n",
    "    \\D*         # optional separator\n",
    "    (\\d*)       # extension is optional and can be any number of digits\n",
    "    $           # end of string\n",
    "    ''', re.VERBOSE)\n",
    "phone_number=input(\"Please enter the phone number to validate : \")\n",
    "phone_pattern.search(phone_number)"
   ]
  },
  {
   "cell_type": "markdown",
   "metadata": {},
   "source": [
    "### Lot easier now Using phonenumbers module"
   ]
  },
  {
   "cell_type": "code",
   "execution_count": 14,
   "metadata": {},
   "outputs": [
    {
     "name": "stdout",
     "output_type": "stream",
     "text": [
      "Collecting phonenumbers\n",
      "  Downloading https://files.pythonhosted.org/packages/f8/3d/0b0632f2eecf1a1d01c94209669f546cb6d01f1ff3523fcb83f556c62d72/phonenumbers-8.10.10-py2.py3-none-any.whl (2.6MB)\n",
      "Installing collected packages: phonenumbers\n",
      "Successfully installed phonenumbers-8.10.10\n"
     ]
    },
    {
     "name": "stderr",
     "output_type": "stream",
     "text": [
      "You are using pip version 19.0.1, however version 19.1 is available.\n",
      "You should consider upgrading via the 'python -m pip install --upgrade pip' command.\n"
     ]
    }
   ],
   "source": [
    "!python -m pip install phonenumbers"
   ]
  },
  {
   "cell_type": "code",
   "execution_count": 20,
   "metadata": {},
   "outputs": [
    {
     "name": "stdout",
     "output_type": "stream",
     "text": [
      "Please enter the phone number to validate : +1(858-756-8789)\n",
      "+1(858-756-8789)  is a valid US phone number\n",
      "Country Code: 1 National Number: 8587568789\n"
     ]
    }
   ],
   "source": [
    "import phonenumbers\n",
    "\n",
    "\n",
    "#Obtain phone number from user\n",
    "phone_number=input(\"Please enter the phone number to validate : \")\n",
    "\n",
    "#Validate if the entered number is a valid us phone number \n",
    "if(phonenumbers.is_valid_number(phonenumbers.parse(phone_number, \"US\"))):\n",
    "    print (phone_number , \" is a valid US phone number\")\n",
    "else:\n",
    "    print(phone_number, \" is not a valid US phone number\")\n",
    "\n",
    "\n",
    "# Now Parse the given number and take out the country code and the 10 digit phone number from it\n",
    "print(phonenumbers.parse(phone_number, \"US\"))\n"
   ]
  }
 ],
 "metadata": {
  "kernelspec": {
   "display_name": "Python 3",
   "language": "python",
   "name": "python3"
  },
  "language_info": {
   "codemirror_mode": {
    "name": "ipython",
    "version": 3
   },
   "file_extension": ".py",
   "mimetype": "text/x-python",
   "name": "python",
   "nbconvert_exporter": "python",
   "pygments_lexer": "ipython3",
   "version": "3.6.5"
  }
 },
 "nbformat": 4,
 "nbformat_minor": 2
}
